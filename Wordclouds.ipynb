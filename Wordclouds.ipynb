{
 "cells": [
  {
   "cell_type": "markdown",
   "id": "50c7014d",
   "metadata": {},
   "source": [
    "# Analyse textuelle\n",
    "Création des nuages de mots"
   ]
  },
  {
   "cell_type": "code",
   "execution_count": 37,
   "id": "21e7ceae-55a5-42c6-b208-fff54125a294",
   "metadata": {},
   "outputs": [],
   "source": [
    "import pandas as pd\n",
    "import pickle\n",
    "import numpy as np"
   ]
  },
  {
   "cell_type": "markdown",
   "id": "424b6245",
   "metadata": {},
   "source": [
    "## Chargement des données"
   ]
  },
  {
   "cell_type": "code",
   "execution_count": 43,
   "id": "21b2b2ab-d41e-47a3-8f04-fe8ef3778387",
   "metadata": {},
   "outputs": [],
   "source": [
    "data = {}\n",
    "for i in range(1, 17):\n",
    "    with open(\"Answers/\" + f\"Question_{i}\" + \".pkl\", \"rb\") as file:\n",
    "        data[f\"Question_{i}\"] = pickle.load(file)"
   ]
  },
  {
   "cell_type": "code",
   "execution_count": 44,
   "id": "fcd7d89d-c9d2-46f8-ad5e-7c5aa78bc2e3",
   "metadata": {},
   "outputs": [
    {
     "data": {
      "text/plain": [
       "pandas.core.series.Series"
      ]
     },
     "execution_count": 44,
     "metadata": {},
     "output_type": "execute_result"
    }
   ],
   "source": [
    "type(data[\"Question_1\"])"
   ]
  },
  {
   "cell_type": "code",
   "execution_count": 45,
   "id": "73d1e879-f12e-4c21-a0d2-c9d3f40bd323",
   "metadata": {},
   "outputs": [
    {
     "name": "stdout",
     "output_type": "stream",
     "text": [
      "QUXVlc3Rpb246MTYw - Quel est aujourd'hui pour vous le problème concret le plus important dans le domaine de l'environnement ?\n",
      "---------------------------\n",
      "0                                                  NaN\n",
      "1    Les problèmes auxquels se trouve confronté l’e...\n",
      "2      Les dérèglements climatiques (crue, sécheresse)\n",
      "3                                La pollution de l'air\n",
      "4    La biodiversité et la disparition de certaines...\n",
      "Name: QUXVlc3Rpb246MTYw - Quel est aujourd'hui pour vous le problème concret le plus important dans le domaine de l'environnement ?, dtype: object\n"
     ]
    }
   ],
   "source": [
    "print(data[\"Question_1\"].name)\n",
    "print(\"---------------------------\")\n",
    "print(data[\"Question_1\"][:5])"
   ]
  },
  {
   "cell_type": "markdown",
   "id": "a8849a5c",
   "metadata": {},
   "source": [
    "### See NaN"
   ]
  },
  {
   "cell_type": "code",
   "execution_count": 46,
   "id": "b618e646",
   "metadata": {},
   "outputs": [
    {
     "name": "stdout",
     "output_type": "stream",
     "text": [
      "Number of NaN in Question_1: 10483 i.e. 6.82 %\n",
      "Number of NaN in Question_2: 16969 i.e. 11.03 %\n",
      "Number of NaN in Question_3: 15247 i.e. 9.91 %\n",
      "Number of NaN in Question_4: 61024 i.e. 39.68 %\n",
      "Number of NaN in Question_5: 15057 i.e. 9.79 %\n",
      "Number of NaN in Question_6: 22621 i.e. 14.71 %\n",
      "Number of NaN in Question_7: 33791 i.e. 21.97 %\n",
      "Number of NaN in Question_8: 50568 i.e. 32.88 %\n",
      "Number of NaN in Question_9: 22621 i.e. 14.71 %\n",
      "Number of NaN in Question_10: 68412 i.e. 44.48 %\n",
      "Number of NaN in Question_11: 17522 i.e. 11.39 %\n",
      "Number of NaN in Question_12: 81089 i.e. 52.72 %\n",
      "Number of NaN in Question_13: 57694 i.e. 37.51 %\n",
      "Number of NaN in Question_14: 46449 i.e. 30.2 %\n",
      "Number of NaN in Question_15: 40894 i.e. 26.59 %\n",
      "Number of NaN in Question_16: 43246 i.e. 28.12 %\n"
     ]
    }
   ],
   "source": [
    "for key, value in data.items():\n",
    "    print(f\"Number of NaN in {key}:\", data[key].isna().sum(), \"i.e.\", round(100*data[key].isna().sum()/len(data[key]), ndigits=2), \"%\")"
   ]
  },
  {
   "cell_type": "code",
   "execution_count": 47,
   "id": "7a94e524",
   "metadata": {},
   "outputs": [],
   "source": [
    "# Rename the questions\n",
    "for key in data:\n",
    "    data[key].name = data[key].name[20:-1]"
   ]
  },
  {
   "cell_type": "code",
   "execution_count": 48,
   "id": "119ccfe8",
   "metadata": {},
   "outputs": [
    {
     "name": "stdout",
     "output_type": "stream",
     "text": [
      "Quel est aujourd'hui pour vous le problème concret le plus important dans le domaine de l'environnement \n",
      "Que faudrait-il faire selon vous pour apporter des réponses à ce problème \n",
      "Diriez-vous que votre vie quotidienne est aujourd'hui touchée par le changement climatique \n",
      "Si oui, de quelle manière votre vie quotidienne est-elle touchée par le changement climatique \n",
      "À titre personnel, pensez-vous pouvoir contribuer à protéger l'environnement \n",
      "Si oui, que faites-vous aujourd'hui pour protéger l'environnement et/ou que pourriez-vous faire \n",
      "Qu'est-ce qui pourrait vous inciter à changer vos comportements comme par exemple mieux entretenir et régler votre chauffage, modifier votre manière de conduire ou renoncer à prendre votre véhicule pour de très petites distances \n",
      "Quelles seraient pour vous les solutions les plus simples et les plus supportables sur un plan financier pour vous inciter à changer vos comportements \n",
      "Par rapport à votre mode de chauffage actuel, pensez-vous qu'il existe des solutions alternatives plus écologiques \n",
      "Si oui, que faudrait-il faire pour vous convaincre ou vous aider à changer de mode de chauffage \n",
      "Avez-vous pour vos déplacements quotidiens la possibilité de recourir à des solutions de mobilité alternatives à la voiture individuelle comme les transports en commun, le covoiturage, l'auto-partage, le transport à la demande, le vélo, etc. \n",
      "Si oui, que faudrait-il faire pour vous convaincre ou vous aider à utiliser ces solutions alternatives \n",
      "Si non, quelles sont les solutions de mobilité alternatives que vous souhaiteriez pouvoir utiliser \n",
      "Et qui doit selon vous se charger de vous proposer ce type de solutions alternatives \n",
      "Que pourrait faire la France pour faire partager ses choix en matière d'environnement au niveau européen et international \n",
      "Y a-t-il d'autres points sur la transition écologique sur lesquels vous souhaiteriez vous exprimer \n"
     ]
    }
   ],
   "source": [
    "for df in data.values():\n",
    "    print(df.name)"
   ]
  },
  {
   "cell_type": "markdown",
   "id": "a5764fd0",
   "metadata": {},
   "source": [
    "## Nettoyage n°1\n",
    "\n",
    "- On vire les lignes avec des na\n",
    "- On converti tous les caractères en minuscule\n",
    "- On retire la ponctuation\n",
    "- On retire les mots contenant des nombres"
   ]
  },
  {
   "cell_type": "code",
   "execution_count": 75,
   "id": "fabb037c-1cda-43e4-8875-2633d13ff348",
   "metadata": {},
   "outputs": [],
   "source": [
    "import re\n",
    "import string\n",
    "\n",
    "def clean_1(df):\n",
    "    question = df.name\n",
    "    df.dropna(axis=0, inplace = True)\n",
    "    texts = [text.lower() for text in df]\n",
    "    texts = [text.replace(\"d'\", \"\") for text in texts]\n",
    "    texts = [text.replace(\"l'\", \"\") for text in texts]\n",
    "    texts = [text.replace(\"d’\", \"\") for text in texts]\n",
    "    texts = [text.replace(\"l’\", \"\") for text in texts]\n",
    "    texts = [text.replace(\"«\", \"\") for text in texts]\n",
    "    texts = [text.replace(\"»\", \"\") for text in texts]\n",
    "    texts = [text.replace(\"–\", \"\") for text in texts]\n",
    "    texts = [re.sub('[%s]' % re.escape(string.punctuation), '', text) for text in texts]\n",
    "    texts = [re.sub('\\w*\\d\\w*', '', text) for text in texts]\n",
    "    return pd.Series(data=texts, name=question)\n",
    "    "
   ]
  },
  {
   "cell_type": "code",
   "execution_count": 76,
   "id": "f8d819ee",
   "metadata": {},
   "outputs": [
    {
     "data": {
      "text/plain": [
       "'les problèmes auxquels se trouve confronté ensemble de la planète et que dénoncent dans le plus parfait désordre les gilets jaunes de france ne sontils pas dus avant tout à la surpopulation mondiale  cette population est passée  milliards habitants en  à  milliards en  et montera bientôt à  milliards vers   avec les progrès de la communication dans ce village mondial chaque individu du fin fond de asie au fin fond de afrique en passant par les  quartiers  et les  campagnes  de notre pays aspire à vivre  et on ne peu en blâmer  comme les moins mal lotis de nos concitoyens logement nourriture biens de consommation déplacementetc  voilà la mère de tous les problèmes si tel est bien le cas la solution à tous les problèmes stabilisation de la croissance démographique partage des richesses partage des terres partage de eau protection de la biodiversité règlement des conflits lutte contre la déforestation lutte contre dérèglement climatique règlement des conflits stabilisation des migrations concurrence commerciale mondiale etc ne sera ni française ni européenne mais mondiale la france se doit y jouer un rôle moteur  le reste autour duquel se déroulera  le grand débat  paraît assez anecdotique'"
      ]
     },
     "execution_count": 76,
     "metadata": {},
     "output_type": "execute_result"
    }
   ],
   "source": [
    "clean_1(data['Question_1']).head()[0]"
   ]
  },
  {
   "cell_type": "markdown",
   "id": "c09742d6",
   "metadata": {},
   "source": [
    "Long to run :"
   ]
  },
  {
   "cell_type": "code",
   "execution_count": 77,
   "id": "7ded9f54",
   "metadata": {},
   "outputs": [],
   "source": [
    "data_clean = {question : clean_1(list_answers) for question, list_answers in data.items()}"
   ]
  },
  {
   "cell_type": "code",
   "execution_count": 79,
   "id": "32cbe6f2",
   "metadata": {},
   "outputs": [
    {
     "data": {
      "text/plain": [
       "0         les problèmes auxquels se trouve confronté ens...\n",
       "1              les dérèglements climatiques crue sécheresse\n",
       "2                                       la pollution de air\n",
       "3         la biodiversité et la disparition de certaines...\n",
       "4                                       la pollution de air\n",
       "                                ...                        \n",
       "143321         les dérèglements climatiques crue sécheresse\n",
       "143322    la biodiversité et la disparition de certaines...\n",
       "143323    la biodiversité et la disparition de certaines...\n",
       "143324    la biodiversité et la disparition de certaines...\n",
       "143325         les dérèglements climatiques crue sécheresse\n",
       "Name: Quel est aujourd'hui pour vous le problème concret le plus important dans le domaine de l'environnement , Length: 143326, dtype: object"
      ]
     },
     "execution_count": 79,
     "metadata": {},
     "output_type": "execute_result"
    }
   ],
   "source": [
    "data_clean[\"Question_1\"]"
   ]
  },
  {
   "cell_type": "code",
   "execution_count": null,
   "id": "82d4ebee",
   "metadata": {},
   "outputs": [],
   "source": []
  }
 ],
 "metadata": {
  "kernelspec": {
   "display_name": "Python 3.10.4 64-bit",
   "language": "python",
   "name": "python3"
  },
  "language_info": {
   "codemirror_mode": {
    "name": "ipython",
    "version": 3
   },
   "file_extension": ".py",
   "mimetype": "text/x-python",
   "name": "python",
   "nbconvert_exporter": "python",
   "pygments_lexer": "ipython3",
   "version": "3.10.4"
  },
  "vscode": {
   "interpreter": {
    "hash": "3ff6434cad071217ecc8dae39d3600810487793025f2d2cf49b455ee8ebcde1a"
   }
  }
 },
 "nbformat": 4,
 "nbformat_minor": 5
}
