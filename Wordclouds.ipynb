{
 "cells": [
  {
   "cell_type": "code",
   "execution_count": 5,
   "id": "21e7ceae-55a5-42c6-b208-fff54125a294",
   "metadata": {},
   "outputs": [],
   "source": [
    "import pandas as pd\n",
    "import pickle\n",
    "import numpy as np"
   ]
  },
  {
   "cell_type": "code",
   "execution_count": 17,
   "id": "21b2b2ab-d41e-47a3-8f04-fe8ef3778387",
   "metadata": {},
   "outputs": [],
   "source": [
    "data = {}\n",
    "for i in range(1, 17):\n",
    "    with open(\"Answers/\" + f\"Question_{i}\" + \".pkl\", \"rb\") as file:\n",
    "        data[f\"Question_{i}\"] = pickle.load(file)"
   ]
  },
  {
   "cell_type": "code",
   "execution_count": 18,
   "id": "fcd7d89d-c9d2-46f8-ad5e-7c5aa78bc2e3",
   "metadata": {},
   "outputs": [
    {
     "data": {
      "text/plain": [
       "pandas.core.series.Series"
      ]
     },
     "execution_count": 18,
     "metadata": {},
     "output_type": "execute_result"
    }
   ],
   "source": [
    "type(data[\"Question_1\"])"
   ]
  },
  {
   "cell_type": "code",
   "execution_count": 23,
   "id": "73d1e879-f12e-4c21-a0d2-c9d3f40bd323",
   "metadata": {},
   "outputs": [
    {
     "name": "stdout",
     "output_type": "stream",
     "text": [
      "QUXVlc3Rpb246MTYw - Quel est aujourd'hui pour vous le problème concret le plus important dans le domaine de l'environnement ?\n",
      "---------------------------\n",
      "0                                                  NaN\n",
      "1    Les problèmes auxquels se trouve confronté l’e...\n",
      "2      Les dérèglements climatiques (crue, sécheresse)\n",
      "3                                La pollution de l'air\n",
      "4    La biodiversité et la disparition de certaines...\n",
      "Name: QUXVlc3Rpb246MTYw - Quel est aujourd'hui pour vous le problème concret le plus important dans le domaine de l'environnement ?, dtype: object\n"
     ]
    }
   ],
   "source": [
    "print(data[\"Question_1\"].name)\n",
    "print(\"---------------------------\")\n",
    "print(data[\"Question_1\"][:5])"
   ]
  },
  {
   "cell_type": "code",
   "execution_count": null,
   "id": "fabb037c-1cda-43e4-8875-2633d13ff348",
   "metadata": {},
   "outputs": [],
   "source": []
  }
 ],
 "metadata": {
  "kernelspec": {
   "display_name": "Python 3 (ipykernel)",
   "language": "python",
   "name": "python3"
  },
  "language_info": {
   "codemirror_mode": {
    "name": "ipython",
    "version": 3
   },
   "file_extension": ".py",
   "mimetype": "text/x-python",
   "name": "python",
   "nbconvert_exporter": "python",
   "pygments_lexer": "ipython3",
   "version": "3.9.12"
  }
 },
 "nbformat": 4,
 "nbformat_minor": 5
}
