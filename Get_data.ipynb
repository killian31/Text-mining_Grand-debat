{
 "cells": [
  {
   "cell_type": "code",
   "execution_count": 1,
   "id": "fa124b0a-723d-4f83-a56d-6fa619e6fe5c",
   "metadata": {},
   "outputs": [],
   "source": [
    "import os\n",
    "# os.chdir(\"/home/jovyan/work/granddebat\")"
   ]
  },
  {
   "cell_type": "code",
   "execution_count": 2,
   "id": "8e7b7fa4-c4a5-4013-acc0-bdbc4ad305ff",
   "metadata": {},
   "outputs": [
    {
     "data": {
      "text/plain": [
       "'c:\\\\Users\\\\killian.steunou\\\\Documents\\\\Git_files\\\\Text-mining_Grand-debat'"
      ]
     },
     "execution_count": 2,
     "metadata": {},
     "output_type": "execute_result"
    }
   ],
   "source": [
    "os.getcwd()"
   ]
  },
  {
   "cell_type": "markdown",
   "id": "e840053a-401f-488a-82b5-eaf49751db9e",
   "metadata": {},
   "source": [
    "# Download the data"
   ]
  },
  {
   "cell_type": "code",
   "execution_count": 3,
   "id": "03cf1659-c8bf-436d-b13c-60b342d33c15",
   "metadata": {},
   "outputs": [],
   "source": [
    "import pandas as pd"
   ]
  },
  {
   "cell_type": "code",
   "execution_count": 4,
   "id": "c96c2de0-2555-4249-8e2b-6a233b4123b3",
   "metadata": {},
   "outputs": [],
   "source": [
    "import requests"
   ]
  },
  {
   "cell_type": "code",
   "execution_count": 5,
   "id": "5b064148-1f3b-40c2-9c80-d6253164a4ce",
   "metadata": {},
   "outputs": [],
   "source": [
    "def get_file(url, filename):\n",
    "    req = requests.get(url)\n",
    "    content = req.content\n",
    "    with open(filename, \"wb\") as file:\n",
    "        file.write(content)"
   ]
  },
  {
   "cell_type": "code",
   "execution_count": 7,
   "id": "883674a2-86e2-48f2-b4cc-9b166603695c",
   "metadata": {},
   "outputs": [],
   "source": [
    "url_21032019 = \"http://opendata.auth-6f31f706db6f4a24b55f42a6a79c5086.storage.sbg.cloud.ovh.net/2019-03-21/LA_TRANSITION_ECOLOGIQUE.csv\"\n",
    "filename = \"csv_21032019.csv\"\n",
    "get_file(url=url_21032019, filename=filename)"
   ]
  },
  {
   "cell_type": "markdown",
   "id": "750e92b0-4294-4d34-86bc-5313b4cce8a1",
   "metadata": {},
   "source": [
    "# Open csv file"
   ]
  },
  {
   "cell_type": "code",
   "execution_count": 8,
   "id": "5c99802c-4fa6-42e1-a876-19678e48c79b",
   "metadata": {},
   "outputs": [
    {
     "name": "stderr",
     "output_type": "stream",
     "text": [
      "C:\\Users\\killian.steunou\\AppData\\Local\\Temp\\ipykernel_13728\\2770101966.py:1: DtypeWarning: Columns (7) have mixed types. Specify dtype option on import or set low_memory=False.\n",
      "  df = pd.read_csv(\"csv_21032019.csv\")\n"
     ]
    }
   ],
   "source": [
    "df = pd.read_csv(\"csv_21032019.csv\")"
   ]
  },
  {
   "cell_type": "code",
   "execution_count": 9,
   "id": "7318b966-1148-4744-b326-799a01a8e00a",
   "metadata": {},
   "outputs": [
    {
     "name": "stdout",
     "output_type": "stream",
     "text": [
      "(153809, 27)\n"
     ]
    },
    {
     "data": {
      "text/html": [
       "<div>\n",
       "<style scoped>\n",
       "    .dataframe tbody tr th:only-of-type {\n",
       "        vertical-align: middle;\n",
       "    }\n",
       "\n",
       "    .dataframe tbody tr th {\n",
       "        vertical-align: top;\n",
       "    }\n",
       "\n",
       "    .dataframe thead th {\n",
       "        text-align: right;\n",
       "    }\n",
       "</style>\n",
       "<table border=\"1\" class=\"dataframe\">\n",
       "  <thead>\n",
       "    <tr style=\"text-align: right;\">\n",
       "      <th></th>\n",
       "      <th>id</th>\n",
       "      <th>reference</th>\n",
       "      <th>title</th>\n",
       "      <th>createdAt</th>\n",
       "      <th>publishedAt</th>\n",
       "      <th>updatedAt</th>\n",
       "      <th>trashed</th>\n",
       "      <th>trashedStatus</th>\n",
       "      <th>authorId</th>\n",
       "      <th>authorType</th>\n",
       "      <th>...</th>\n",
       "      <th>QUXVlc3Rpb246MTUw - Qu'est-ce qui pourrait vous inciter à changer vos comportements comme par exemple mieux entretenir et régler votre chauffage, modifier votre manière de conduire ou renoncer à prendre votre véhicule pour de très petites distances ?</th>\n",
       "      <th>QUXVlc3Rpb246MTUx - Quelles seraient pour vous les solutions les plus simples et les plus supportables sur un plan financier pour vous inciter à changer vos comportements ?</th>\n",
       "      <th>QUXVlc3Rpb246MTUy - Par rapport à votre mode de chauffage actuel, pensez-vous qu'il existe des solutions alternatives plus écologiques ?</th>\n",
       "      <th>QUXVlc3Rpb246MTUz - Si oui, que faudrait-il faire pour vous convaincre ou vous aider à changer de mode de chauffage ?</th>\n",
       "      <th>QUXVlc3Rpb246MTU0 - Avez-vous pour vos déplacements quotidiens la possibilité de recourir à des solutions de mobilité alternatives à la voiture individuelle comme les transports en commun, le covoiturage, l'auto-partage, le transport à la demande, le vélo, etc. ?</th>\n",
       "      <th>QUXVlc3Rpb246MTU1 - Si oui, que faudrait-il faire pour vous convaincre ou vous aider à utiliser ces solutions alternatives ?</th>\n",
       "      <th>QUXVlc3Rpb246MjA3 - Si non, quelles sont les solutions de mobilité alternatives que vous souhaiteriez pouvoir utiliser ?</th>\n",
       "      <th>QUXVlc3Rpb246MTU3 - Et qui doit selon vous se charger de vous proposer ce type de solutions alternatives ?</th>\n",
       "      <th>QUXVlc3Rpb246MTU4 - Que pourrait faire la France pour faire partager ses choix en matière d'environnement au niveau européen et international ?</th>\n",
       "      <th>QUXVlc3Rpb246MTU5 - Y a-t-il d'autres points sur la transition écologique sur lesquels vous souhaiteriez vous exprimer ?</th>\n",
       "    </tr>\n",
       "  </thead>\n",
       "  <tbody>\n",
       "    <tr>\n",
       "      <th>0</th>\n",
       "      <td>UHJvcG9zYWw6ZmZlN2MwNzktMWUyMC0xMWU5LTk0ZDItZm...</td>\n",
       "      <td>2-4</td>\n",
       "      <td>transition écologique</td>\n",
       "      <td>2019-01-22 09:37:49</td>\n",
       "      <td>2019-01-22 09:37:49</td>\n",
       "      <td>NaN</td>\n",
       "      <td>False</td>\n",
       "      <td>NaN</td>\n",
       "      <td>VXNlcjoxMTQwMTc0YS0xZTFmLTExZTktOTRkMi1mYTE2M2...</td>\n",
       "      <td>Citoyen / Citoyenne</td>\n",
       "      <td>...</td>\n",
       "      <td>NaN</td>\n",
       "      <td>NaN</td>\n",
       "      <td>NaN</td>\n",
       "      <td>NaN</td>\n",
       "      <td>NaN</td>\n",
       "      <td>NaN</td>\n",
       "      <td>NaN</td>\n",
       "      <td>NaN</td>\n",
       "      <td>Enseignement du tri sélectif à l'école</td>\n",
       "      <td>Multiplier les centrales géothermiques</td>\n",
       "    </tr>\n",
       "    <tr>\n",
       "      <th>1</th>\n",
       "      <td>UHJvcG9zYWw6M2RmZmUxZjMtMWUyMS0xMWU5LTk0ZDItZm...</td>\n",
       "      <td>2-5</td>\n",
       "      <td>La surpopulation</td>\n",
       "      <td>2019-01-22 09:39:33</td>\n",
       "      <td>2019-01-22 09:39:33</td>\n",
       "      <td>NaN</td>\n",
       "      <td>False</td>\n",
       "      <td>NaN</td>\n",
       "      <td>VXNlcjpjOWYxZWQ1NS0xYzEwLTExZTktOTRkMi1mYTE2M2...</td>\n",
       "      <td>Citoyen / Citoyenne</td>\n",
       "      <td>...</td>\n",
       "      <td>NaN</td>\n",
       "      <td>NaN</td>\n",
       "      <td>NaN</td>\n",
       "      <td>NaN</td>\n",
       "      <td>NaN</td>\n",
       "      <td>NaN</td>\n",
       "      <td>NaN</td>\n",
       "      <td>NaN</td>\n",
       "      <td>Mettre en oeuvre au niveau national ses engage...</td>\n",
       "      <td>Les problèmes auxquels se trouve confronté l’e...</td>\n",
       "    </tr>\n",
       "    <tr>\n",
       "      <th>2</th>\n",
       "      <td>UHJvcG9zYWw6NDg1YWUxYjItMWUyMS0xMWU5LTk0ZDItZm...</td>\n",
       "      <td>2-6</td>\n",
       "      <td>climat</td>\n",
       "      <td>2019-01-22 09:39:50</td>\n",
       "      <td>2019-01-22 09:39:50</td>\n",
       "      <td>NaN</td>\n",
       "      <td>False</td>\n",
       "      <td>NaN</td>\n",
       "      <td>VXNlcjozZjlhNzAwOS0xYTc2LTExZTktOTRkMi1mYTE2M2...</td>\n",
       "      <td>Citoyen / Citoyenne</td>\n",
       "      <td>...</td>\n",
       "      <td>développer  les transports en commun ,</td>\n",
       "      <td>NaN</td>\n",
       "      <td>Non</td>\n",
       "      <td>NaN</td>\n",
       "      <td>Oui</td>\n",
       "      <td>NaN</td>\n",
       "      <td>Les transports en commun|L'auto partage|Le tra...</td>\n",
       "      <td>NaN</td>\n",
       "      <td>NaN</td>\n",
       "      <td>NaN</td>\n",
       "    </tr>\n",
       "    <tr>\n",
       "      <th>3</th>\n",
       "      <td>UHJvcG9zYWw6NTk2Nzk5MmItMWUyMS0xMWU5LTk0ZDItZm...</td>\n",
       "      <td>2-7</td>\n",
       "      <td>POLLUTION AIR EAU</td>\n",
       "      <td>2019-01-22 09:40:19</td>\n",
       "      <td>2019-01-22 09:40:19</td>\n",
       "      <td>NaN</td>\n",
       "      <td>False</td>\n",
       "      <td>NaN</td>\n",
       "      <td>VXNlcjozOWQwNzJjNC0xZDEwLTExZTktOTRkMi1mYTE2M2...</td>\n",
       "      <td>Citoyen / Citoyenne</td>\n",
       "      <td>...</td>\n",
       "      <td>NaN</td>\n",
       "      <td>Plus de transports publics dans les petites co...</td>\n",
       "      <td>Non</td>\n",
       "      <td>NaN</td>\n",
       "      <td>Non</td>\n",
       "      <td>Le co-voiturage ne correspond pas toujours aux...</td>\n",
       "      <td>Les transports en commun</td>\n",
       "      <td>L'Etat</td>\n",
       "      <td>Elle n'a aucun pouvoir. Impossible de contrain...</td>\n",
       "      <td>NaN</td>\n",
       "    </tr>\n",
       "    <tr>\n",
       "      <th>4</th>\n",
       "      <td>UHJvcG9zYWw6ODU5NWMyOTYtMWUyMS0xMWU5LTk0ZDItZm...</td>\n",
       "      <td>2-8</td>\n",
       "      <td>Economie vs Ecologie</td>\n",
       "      <td>2019-01-22 09:41:33</td>\n",
       "      <td>2019-01-22 09:41:33</td>\n",
       "      <td>NaN</td>\n",
       "      <td>False</td>\n",
       "      <td>NaN</td>\n",
       "      <td>VXNlcjo3M2YxN2NlZS0xZDRiLTExZTktOTRkMi1mYTE2M2...</td>\n",
       "      <td>Citoyen / Citoyenne</td>\n",
       "      <td>...</td>\n",
       "      <td>Aménagement de piste cyclable, développement d...</td>\n",
       "      <td>Détaxer le mode de chauffage écologique, une a...</td>\n",
       "      <td>Oui</td>\n",
       "      <td>une aide significative pour de l'éolien ou du ...</td>\n",
       "      <td>Non</td>\n",
       "      <td>Une piste cyclable pour éviter de risquer ma v...</td>\n",
       "      <td>Les transports en commun|Le covoiturage|Le vélo</td>\n",
       "      <td>La commune, le département, la région</td>\n",
       "      <td>Demander à Nicolas Hulot</td>\n",
       "      <td>Une vrai politique écologique et non économique</td>\n",
       "    </tr>\n",
       "  </tbody>\n",
       "</table>\n",
       "<p>5 rows × 27 columns</p>\n",
       "</div>"
      ],
      "text/plain": [
       "                                                  id reference  \\\n",
       "0  UHJvcG9zYWw6ZmZlN2MwNzktMWUyMC0xMWU5LTk0ZDItZm...       2-4   \n",
       "1  UHJvcG9zYWw6M2RmZmUxZjMtMWUyMS0xMWU5LTk0ZDItZm...       2-5   \n",
       "2  UHJvcG9zYWw6NDg1YWUxYjItMWUyMS0xMWU5LTk0ZDItZm...       2-6   \n",
       "3  UHJvcG9zYWw6NTk2Nzk5MmItMWUyMS0xMWU5LTk0ZDItZm...       2-7   \n",
       "4  UHJvcG9zYWw6ODU5NWMyOTYtMWUyMS0xMWU5LTk0ZDItZm...       2-8   \n",
       "\n",
       "                   title            createdAt          publishedAt updatedAt  \\\n",
       "0  transition écologique  2019-01-22 09:37:49  2019-01-22 09:37:49       NaN   \n",
       "1       La surpopulation  2019-01-22 09:39:33  2019-01-22 09:39:33       NaN   \n",
       "2                 climat  2019-01-22 09:39:50  2019-01-22 09:39:50       NaN   \n",
       "3      POLLUTION AIR EAU  2019-01-22 09:40:19  2019-01-22 09:40:19       NaN   \n",
       "4   Economie vs Ecologie  2019-01-22 09:41:33  2019-01-22 09:41:33       NaN   \n",
       "\n",
       "   trashed trashedStatus                                           authorId  \\\n",
       "0    False           NaN  VXNlcjoxMTQwMTc0YS0xZTFmLTExZTktOTRkMi1mYTE2M2...   \n",
       "1    False           NaN  VXNlcjpjOWYxZWQ1NS0xYzEwLTExZTktOTRkMi1mYTE2M2...   \n",
       "2    False           NaN  VXNlcjozZjlhNzAwOS0xYTc2LTExZTktOTRkMi1mYTE2M2...   \n",
       "3    False           NaN  VXNlcjozOWQwNzJjNC0xZDEwLTExZTktOTRkMi1mYTE2M2...   \n",
       "4    False           NaN  VXNlcjo3M2YxN2NlZS0xZDRiLTExZTktOTRkMi1mYTE2M2...   \n",
       "\n",
       "            authorType  ...  \\\n",
       "0  Citoyen / Citoyenne  ...   \n",
       "1  Citoyen / Citoyenne  ...   \n",
       "2  Citoyen / Citoyenne  ...   \n",
       "3  Citoyen / Citoyenne  ...   \n",
       "4  Citoyen / Citoyenne  ...   \n",
       "\n",
       "   QUXVlc3Rpb246MTUw - Qu'est-ce qui pourrait vous inciter à changer vos comportements comme par exemple mieux entretenir et régler votre chauffage, modifier votre manière de conduire ou renoncer à prendre votre véhicule pour de très petites distances ?  \\\n",
       "0                                                NaN                                                                                                                                                                                                            \n",
       "1                                                NaN                                                                                                                                                                                                            \n",
       "2             développer  les transports en commun ,                                                                                                                                                                                                            \n",
       "3                                                NaN                                                                                                                                                                                                            \n",
       "4  Aménagement de piste cyclable, développement d...                                                                                                                                                                                                            \n",
       "\n",
       "  QUXVlc3Rpb246MTUx - Quelles seraient pour vous les solutions les plus simples et les plus supportables sur un plan financier pour vous inciter à changer vos comportements ?  \\\n",
       "0                                                NaN                                                                                                                             \n",
       "1                                                NaN                                                                                                                             \n",
       "2                                                NaN                                                                                                                             \n",
       "3  Plus de transports publics dans les petites co...                                                                                                                             \n",
       "4  Détaxer le mode de chauffage écologique, une a...                                                                                                                             \n",
       "\n",
       "  QUXVlc3Rpb246MTUy - Par rapport à votre mode de chauffage actuel, pensez-vous qu'il existe des solutions alternatives plus écologiques ?  \\\n",
       "0                                                NaN                                                                                         \n",
       "1                                                NaN                                                                                         \n",
       "2                                                Non                                                                                         \n",
       "3                                                Non                                                                                         \n",
       "4                                                Oui                                                                                         \n",
       "\n",
       "  QUXVlc3Rpb246MTUz - Si oui, que faudrait-il faire pour vous convaincre ou vous aider à changer de mode de chauffage ?  \\\n",
       "0                                                NaN                                                                      \n",
       "1                                                NaN                                                                      \n",
       "2                                                NaN                                                                      \n",
       "3                                                NaN                                                                      \n",
       "4  une aide significative pour de l'éolien ou du ...                                                                      \n",
       "\n",
       "  QUXVlc3Rpb246MTU0 - Avez-vous pour vos déplacements quotidiens la possibilité de recourir à des solutions de mobilité alternatives à la voiture individuelle comme les transports en commun, le covoiturage, l'auto-partage, le transport à la demande, le vélo, etc. ?  \\\n",
       "0                                                NaN                                                                                                                                                                                                                        \n",
       "1                                                NaN                                                                                                                                                                                                                        \n",
       "2                                                Oui                                                                                                                                                                                                                        \n",
       "3                                                Non                                                                                                                                                                                                                        \n",
       "4                                                Non                                                                                                                                                                                                                        \n",
       "\n",
       "  QUXVlc3Rpb246MTU1 - Si oui, que faudrait-il faire pour vous convaincre ou vous aider à utiliser ces solutions alternatives ?  \\\n",
       "0                                                NaN                                                                             \n",
       "1                                                NaN                                                                             \n",
       "2                                                NaN                                                                             \n",
       "3  Le co-voiturage ne correspond pas toujours aux...                                                                             \n",
       "4  Une piste cyclable pour éviter de risquer ma v...                                                                             \n",
       "\n",
       "  QUXVlc3Rpb246MjA3 - Si non, quelles sont les solutions de mobilité alternatives que vous souhaiteriez pouvoir utiliser ?  \\\n",
       "0                                                NaN                                                                         \n",
       "1                                                NaN                                                                         \n",
       "2  Les transports en commun|L'auto partage|Le tra...                                                                         \n",
       "3                           Les transports en commun                                                                         \n",
       "4    Les transports en commun|Le covoiturage|Le vélo                                                                         \n",
       "\n",
       "  QUXVlc3Rpb246MTU3 - Et qui doit selon vous se charger de vous proposer ce type de solutions alternatives ?  \\\n",
       "0                                                NaN                                                           \n",
       "1                                                NaN                                                           \n",
       "2                                                NaN                                                           \n",
       "3                                             L'Etat                                                           \n",
       "4              La commune, le département, la région                                                           \n",
       "\n",
       "  QUXVlc3Rpb246MTU4 - Que pourrait faire la France pour faire partager ses choix en matière d'environnement au niveau européen et international ?  \\\n",
       "0             Enseignement du tri sélectif à l'école                                                                                                \n",
       "1  Mettre en oeuvre au niveau national ses engage...                                                                                                \n",
       "2                                                NaN                                                                                                \n",
       "3  Elle n'a aucun pouvoir. Impossible de contrain...                                                                                                \n",
       "4                           Demander à Nicolas Hulot                                                                                                \n",
       "\n",
       "  QUXVlc3Rpb246MTU5 - Y a-t-il d'autres points sur la transition écologique sur lesquels vous souhaiteriez vous exprimer ?  \n",
       "0             Multiplier les centrales géothermiques                                                                        \n",
       "1  Les problèmes auxquels se trouve confronté l’e...                                                                        \n",
       "2                                                NaN                                                                        \n",
       "3                                                NaN                                                                        \n",
       "4    Une vrai politique écologique et non économique                                                                        \n",
       "\n",
       "[5 rows x 27 columns]"
      ]
     },
     "execution_count": 9,
     "metadata": {},
     "output_type": "execute_result"
    }
   ],
   "source": [
    "print(df.shape)\n",
    "df.head()"
   ]
  },
  {
   "cell_type": "code",
   "execution_count": 10,
   "id": "f0e4bc49-e6fd-477a-acdd-fe23b057cef4",
   "metadata": {},
   "outputs": [
    {
     "name": "stdout",
     "output_type": "stream",
     "text": [
      "id\n",
      "reference\n",
      "title\n",
      "createdAt\n",
      "publishedAt\n",
      "updatedAt\n",
      "trashed\n",
      "trashedStatus\n",
      "authorId\n",
      "authorType\n",
      "authorZipCode\n",
      "QUXVlc3Rpb246MTYw - Quel est aujourd'hui pour vous le problème concret le plus important dans le domaine de l'environnement ?\n",
      "QUXVlc3Rpb246MTYx - Que faudrait-il faire selon vous pour apporter des réponses à ce problème ?\n",
      "QUXVlc3Rpb246MTQ2 - Diriez-vous que votre vie quotidienne est aujourd'hui touchée par le changement climatique ?\n",
      "QUXVlc3Rpb246MTQ3 - Si oui, de quelle manière votre vie quotidienne est-elle touchée par le changement climatique ?\n",
      "QUXVlc3Rpb246MTQ4 - À titre personnel, pensez-vous pouvoir contribuer à protéger l'environnement ?\n",
      "QUXVlc3Rpb246MTQ5 - Si oui, que faites-vous aujourd'hui pour protéger l'environnement et/ou que pourriez-vous faire ?\n",
      "QUXVlc3Rpb246MTUw - Qu'est-ce qui pourrait vous inciter à changer vos comportements comme par exemple mieux entretenir et régler votre chauffage, modifier votre manière de conduire ou renoncer à prendre votre véhicule pour de très petites distances ?\n",
      "QUXVlc3Rpb246MTUx - Quelles seraient pour vous les solutions les plus simples et les plus supportables sur un plan financier pour vous inciter à changer vos comportements ?\n",
      "QUXVlc3Rpb246MTUy - Par rapport à votre mode de chauffage actuel, pensez-vous qu'il existe des solutions alternatives plus écologiques ?\n",
      "QUXVlc3Rpb246MTUz - Si oui, que faudrait-il faire pour vous convaincre ou vous aider à changer de mode de chauffage ?\n",
      "QUXVlc3Rpb246MTU0 - Avez-vous pour vos déplacements quotidiens la possibilité de recourir à des solutions de mobilité alternatives à la voiture individuelle comme les transports en commun, le covoiturage, l'auto-partage, le transport à la demande, le vélo, etc. ?\n",
      "QUXVlc3Rpb246MTU1 - Si oui, que faudrait-il faire pour vous convaincre ou vous aider à utiliser ces solutions alternatives ?\n",
      "QUXVlc3Rpb246MjA3 - Si non, quelles sont les solutions de mobilité alternatives que vous souhaiteriez pouvoir utiliser ?\n",
      "QUXVlc3Rpb246MTU3 - Et qui doit selon vous se charger de vous proposer ce type de solutions alternatives ?\n",
      "QUXVlc3Rpb246MTU4 - Que pourrait faire la France pour faire partager ses choix en matière d'environnement au niveau européen et international ?\n",
      "QUXVlc3Rpb246MTU5 - Y a-t-il d'autres points sur la transition écologique sur lesquels vous souhaiteriez vous exprimer ?\n"
     ]
    }
   ],
   "source": [
    "for col in df.columns:\n",
    "    print(col)"
   ]
  },
  {
   "cell_type": "code",
   "execution_count": 11,
   "id": "f16cd11c-ecae-4efa-b27b-dcdf0efd6cce",
   "metadata": {},
   "outputs": [],
   "source": [
    "col_questions = [col for col in df.columns if \"QUXV\" in col]\n",
    "assert(len(col_questions)==16)"
   ]
  },
  {
   "cell_type": "code",
   "execution_count": 12,
   "id": "ef92c353-5386-42eb-b133-983a4e85a43c",
   "metadata": {},
   "outputs": [],
   "source": [
    "import pickle\n",
    "!mkdir Answers\n",
    "for i, c in enumerate(col_questions):\n",
    "    with open(\"Answers/\" + f\"Question_{i+1}\" + \".pkl\", \"wb\") as file:\n",
    "        pickle.dump(df[c], file)"
   ]
  },
  {
   "cell_type": "code",
   "execution_count": null,
   "id": "3d952477-0b66-417c-96c1-aa0d96b9652a",
   "metadata": {},
   "outputs": [],
   "source": []
  }
 ],
 "metadata": {
  "kernelspec": {
   "display_name": "Python 3.10.4 64-bit",
   "language": "python",
   "name": "python3"
  },
  "language_info": {
   "codemirror_mode": {
    "name": "ipython",
    "version": 3
   },
   "file_extension": ".py",
   "mimetype": "text/x-python",
   "name": "python",
   "nbconvert_exporter": "python",
   "pygments_lexer": "ipython3",
   "version": "3.10.4"
  },
  "vscode": {
   "interpreter": {
    "hash": "3ff6434cad071217ecc8dae39d3600810487793025f2d2cf49b455ee8ebcde1a"
   }
  }
 },
 "nbformat": 4,
 "nbformat_minor": 5
}
